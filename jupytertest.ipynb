{
 "cells": [
  {
   "cell_type": "markdown",
   "metadata": {},
   "source": [
    "This is an example of text in a Jupyter notebook. \n",
    "We need to build something with an equation, with an image and with code relevant to the image and the equation. "
   ]
  },
  {
   "cell_type": "markdown",
   "metadata": {},
   "source": [
    "# The Ising Model"
   ]
  },
  {
   "cell_type": "markdown",
   "metadata": {},
   "source": [
    "The Ising Model can be used to predict functional connectivity from structural connectivity. \n",
    "To start to predict the functional connectivity, we need to get the \"Energy\" of our system. \n",
    "The structural connectivity matrix, J, contains information about the number of fibres connecting each region we are interested in. \n",
    "By representing the regions of the brain as \"spin sites\" *si and sj*, we can calculate the energy of the entire system - in this case, the brain. "
   ]
  },
  {
   "cell_type": "markdown",
   "metadata": {},
   "source": [
    "\n",
    "![MAGIC](physicsmagic(resize).jpeg) \n"
   ]
  },
  {
   "cell_type": "markdown",
   "metadata": {},
   "source": [
    "\n",
    "\n",
    "$\n",
    "\\begin{align}\n",
    "E = -\\sum\\limits _{i, j}^{N} J_{ij}s_{i}s_{j}\n",
    "\\end{align}\n",
    "$"
   ]
  },
  {
   "cell_type": "code",
   "execution_count": 15,
   "metadata": {},
   "outputs": [
    {
     "name": "stdout",
     "output_type": "stream",
     "text": [
      "-0.72\n"
     ]
    }
   ],
   "source": [
    "J1 = 0.12; J2 = 0.14; J3 = 0.70\n",
    "S1 = 1; S2 = -1; S3 = 1\n",
    "R1 = -1; R2 = -1; R3 = 1\n",
    "\n",
    "E = -(J1*S1*R1 + J2*S2*R2 + J3*S3*R3)\n",
    "print(E)\n",
    "\n",
    "            "
   ]
  },
  {
   "cell_type": "code",
   "execution_count": 25,
   "metadata": {},
   "outputs": [
    {
     "name": "stdout",
     "output_type": "stream",
     "text": [
      "-0.72\n"
     ]
    }
   ],
   "source": [
    "J = [0.12, 0.14, 0.70]\n",
    "S = [1, -1, 1] \n",
    "R = [-1, -1, 1]\n",
    "\n",
    "E = 0\n",
    "for j, s, r in zip(J, S, R):\n",
    "    E += -(j*s*r)\n",
    "    \n",
    "print(E)\n"
   ]
  }
 ],
 "metadata": {
  "kernelspec": {
   "display_name": "Python 3.9.7 64-bit",
   "language": "python",
   "name": "python3"
  },
  "language_info": {
   "codemirror_mode": {
    "name": "ipython",
    "version": 3
   },
   "file_extension": ".py",
   "mimetype": "text/x-python",
   "name": "python",
   "nbconvert_exporter": "python",
   "pygments_lexer": "ipython3",
   "version": "3.9.7"
  },
  "orig_nbformat": 4,
  "vscode": {
   "interpreter": {
    "hash": "aee8b7b246df8f9039afb4144a1f6fd8d2ca17a180786b69acc140d282b71a49"
   }
  }
 },
 "nbformat": 4,
 "nbformat_minor": 2
}
